{
 "cells": [
  {
   "cell_type": "code",
   "execution_count": 1,
   "metadata": {},
   "outputs": [],
   "source": [
    "import pandas as pd\n",
    "import datetime"
   ]
  },
  {
   "cell_type": "code",
   "execution_count": 5,
   "metadata": {},
   "outputs": [
    {
     "data": {
      "text/plain": [
       "'20210708'"
      ]
     },
     "execution_count": 5,
     "metadata": {},
     "output_type": "execute_result"
    }
   ],
   "source": [
    "dt = \"{:02d}\".format(datetime.date.today().year)+\"{:02d}\".format(datetime.date.today().month,\"00\")+\"{:02d}\".format(datetime.date.today().day, \"00\")\n",
    "dt"
   ]
  },
  {
   "cell_type": "code",
   "execution_count": 6,
   "metadata": {},
   "outputs": [],
   "source": [
    "TOP = 14\n",
    "dfs = []\n",
    "for i in range(TOP):\n",
    "    df = pd.read_html(f'https://kabutan.jp/warning/?mode=2_1&market=0&capitalization=-1&stc=&stm=0&page={i+1}')\n",
    "    dfs.append(df[2])"
   ]
  },
  {
   "cell_type": "code",
   "execution_count": 7,
   "metadata": {},
   "outputs": [],
   "source": [
    "TOP = 63\n",
    "dfs_down = []\n",
    "for i in range(TOP):\n",
    "    df_down = pd.read_html(f'https://kabutan.jp/warning/?mode=2_2&market=0&capitalization=-1&stc=&stm=0&page={i+1}')\n",
    "    dfs_down.append(df_down[2])"
   ]
  },
  {
   "cell_type": "code",
   "execution_count": 8,
   "metadata": {},
   "outputs": [
    {
     "data": {
      "text/plain": [
       "4"
      ]
     },
     "execution_count": 8,
     "metadata": {},
     "output_type": "execute_result"
    }
   ],
   "source": [
    " datetime.date.today().weekday()"
   ]
  },
  {
   "cell_type": "code",
   "execution_count": 9,
   "metadata": {},
   "outputs": [],
   "source": [
    "df_all = pd.concat(dfs, axis=0)\n",
    "df_all.reset_index(inplace=True, drop=True)\n",
    "df_all = df_all[['コード', '銘柄名', '市場', '株価', \n",
    "       '前日比', '前日比.1', '出来高', 'ＰＥＲ', 'ＰＢＲ', '利回り']]\n",
    "df_all.columns = ['コード', '銘柄名', '市場', '株価', \n",
    "       '前日比_価格差', '前日比_変化率', '出来高', 'PER', 'PBR', '利回り']\n",
    "df_all['date'] = datetime.date.today()\n",
    "df_all['weekday'] = datetime.date.today().weekday()"
   ]
  },
  {
   "cell_type": "code",
   "execution_count": 10,
   "metadata": {},
   "outputs": [],
   "source": [
    "df_all_down = pd.concat(dfs_down, axis=0)\n",
    "df_all_down.reset_index(inplace=True, drop=True)\n",
    "df_all_down = df_all_down[['コード', '銘柄名', '市場', '株価', \n",
    "       '前日比', '前日比.1', '出来高', 'ＰＥＲ', 'ＰＢＲ', '利回り']]\n",
    "df_all_down.columns = ['コード', '銘柄名', '市場', '株価', \n",
    "       '前日比_価格差', '前日比_変化率', '出来高', 'PER', 'PBR', '利回り']\n",
    "df_all_down['date'] = datetime.date.today()\n",
    "df_all_down['weekday'] = datetime.date.today().weekday()"
   ]
  },
  {
   "cell_type": "code",
   "execution_count": 11,
   "metadata": {},
   "outputs": [
    {
     "data": {
      "text/html": [
       "<div>\n",
       "<style scoped>\n",
       "    .dataframe tbody tr th:only-of-type {\n",
       "        vertical-align: middle;\n",
       "    }\n",
       "\n",
       "    .dataframe tbody tr th {\n",
       "        vertical-align: top;\n",
       "    }\n",
       "\n",
       "    .dataframe thead th {\n",
       "        text-align: right;\n",
       "    }\n",
       "</style>\n",
       "<table border=\"1\" class=\"dataframe\">\n",
       "  <thead>\n",
       "    <tr style=\"text-align: right;\">\n",
       "      <th></th>\n",
       "      <th>コード</th>\n",
       "      <th>銘柄名</th>\n",
       "      <th>市場</th>\n",
       "      <th>株価</th>\n",
       "      <th>前日比_価格差</th>\n",
       "      <th>前日比_変化率</th>\n",
       "      <th>出来高</th>\n",
       "      <th>PER</th>\n",
       "      <th>PBR</th>\n",
       "      <th>利回り</th>\n",
       "      <th>date</th>\n",
       "      <th>weekday</th>\n",
       "    </tr>\n",
       "  </thead>\n",
       "  <tbody>\n",
       "    <tr>\n",
       "      <th>0</th>\n",
       "      <td>1689</td>\n",
       "      <td>ＷＴ天然ガス</td>\n",
       "      <td>東Ｅ</td>\n",
       "      <td>2.0</td>\n",
       "      <td>1</td>\n",
       "      <td>+100.00%</td>\n",
       "      <td>6179700</td>\n",
       "      <td>－</td>\n",
       "      <td>－</td>\n",
       "      <td>－</td>\n",
       "      <td>2021-07-09</td>\n",
       "      <td>4</td>\n",
       "    </tr>\n",
       "    <tr>\n",
       "      <th>1</th>\n",
       "      <td>8135</td>\n",
       "      <td>ゼット</td>\n",
       "      <td>東２</td>\n",
       "      <td>341.0</td>\n",
       "      <td>80</td>\n",
       "      <td>+30.65%</td>\n",
       "      <td>3620900</td>\n",
       "      <td>12.8</td>\n",
       "      <td>0.67</td>\n",
       "      <td>1.47</td>\n",
       "      <td>2021-07-09</td>\n",
       "      <td>4</td>\n",
       "    </tr>\n",
       "  </tbody>\n",
       "</table>\n",
       "</div>"
      ],
      "text/plain": [
       "    コード     銘柄名  市場     株価 前日比_価格差   前日比_変化率      出来高   PER   PBR   利回り  \\\n",
       "0  1689  ＷＴ天然ガス  東Ｅ    2.0       1  +100.00%  6179700     －     －     －   \n",
       "1  8135     ゼット  東２  341.0      80   +30.65%  3620900  12.8  0.67  1.47   \n",
       "\n",
       "         date  weekday  \n",
       "0  2021-07-09        4  \n",
       "1  2021-07-09        4  "
      ]
     },
     "execution_count": 11,
     "metadata": {},
     "output_type": "execute_result"
    }
   ],
   "source": [
    "df_all.head(2)"
   ]
  },
  {
   "cell_type": "code",
   "execution_count": 12,
   "metadata": {},
   "outputs": [
    {
     "data": {
      "text/html": [
       "<div>\n",
       "<style scoped>\n",
       "    .dataframe tbody tr th:only-of-type {\n",
       "        vertical-align: middle;\n",
       "    }\n",
       "\n",
       "    .dataframe tbody tr th {\n",
       "        vertical-align: top;\n",
       "    }\n",
       "\n",
       "    .dataframe thead th {\n",
       "        text-align: right;\n",
       "    }\n",
       "</style>\n",
       "<table border=\"1\" class=\"dataframe\">\n",
       "  <thead>\n",
       "    <tr style=\"text-align: right;\">\n",
       "      <th></th>\n",
       "      <th>コード</th>\n",
       "      <th>銘柄名</th>\n",
       "      <th>市場</th>\n",
       "      <th>株価</th>\n",
       "      <th>前日比_価格差</th>\n",
       "      <th>前日比_変化率</th>\n",
       "      <th>出来高</th>\n",
       "      <th>PER</th>\n",
       "      <th>PBR</th>\n",
       "      <th>利回り</th>\n",
       "      <th>date</th>\n",
       "      <th>weekday</th>\n",
       "    </tr>\n",
       "  </thead>\n",
       "  <tbody>\n",
       "    <tr>\n",
       "      <th>0</th>\n",
       "      <td>6628</td>\n",
       "      <td>オンキヨーＨ</td>\n",
       "      <td>ＪＱ</td>\n",
       "      <td>3.0</td>\n",
       "      <td>-1.0</td>\n",
       "      <td>-25.00%</td>\n",
       "      <td>4803500</td>\n",
       "      <td>－</td>\n",
       "      <td>－</td>\n",
       "      <td>－</td>\n",
       "      <td>2021-07-09</td>\n",
       "      <td>4</td>\n",
       "    </tr>\n",
       "    <tr>\n",
       "      <th>1</th>\n",
       "      <td>4918</td>\n",
       "      <td>アイビー</td>\n",
       "      <td>ＪＱ</td>\n",
       "      <td>1200.0</td>\n",
       "      <td>-211.0</td>\n",
       "      <td>-14.95%</td>\n",
       "      <td>1118200</td>\n",
       "      <td>11.7</td>\n",
       "      <td>3.03</td>\n",
       "      <td>－</td>\n",
       "      <td>2021-07-09</td>\n",
       "      <td>4</td>\n",
       "    </tr>\n",
       "  </tbody>\n",
       "</table>\n",
       "</div>"
      ],
      "text/plain": [
       "    コード     銘柄名  市場      株価  前日比_価格差  前日比_変化率      出来高   PER   PBR 利回り  \\\n",
       "0  6628  オンキヨーＨ  ＪＱ     3.0     -1.0  -25.00%  4803500     －     －   －   \n",
       "1  4918    アイビー  ＪＱ  1200.0   -211.0  -14.95%  1118200  11.7  3.03   －   \n",
       "\n",
       "         date  weekday  \n",
       "0  2021-07-09        4  \n",
       "1  2021-07-09        4  "
      ]
     },
     "execution_count": 12,
     "metadata": {},
     "output_type": "execute_result"
    }
   ],
   "source": [
    "df_all_down.head(2)"
   ]
  },
  {
   "cell_type": "code",
   "execution_count": 13,
   "metadata": {},
   "outputs": [],
   "source": [
    "df_all.to_csv(f'./data/{dt}_stock_upranking.csv', index=False)\n",
    "df_all_down.to_csv(f'./data/{dt}_stock_downranking.csv', index=False)"
   ]
  }
 ],
 "metadata": {
  "interpreter": {
   "hash": "e1c92841186803e793a02176e904616a4fd8c99b61f4a9d120c9b783437fac15"
  },
  "kernelspec": {
   "display_name": "Python 3",
   "language": "python",
   "name": "python3"
  },
  "language_info": {
   "codemirror_mode": {
    "name": "ipython",
    "version": 3
   },
   "file_extension": ".py",
   "mimetype": "text/x-python",
   "name": "python",
   "nbconvert_exporter": "python",
   "pygments_lexer": "ipython3",
   "version": "3.7.5"
  },
  "toc": {
   "base_numbering": 1,
   "nav_menu": {},
   "number_sections": true,
   "sideBar": true,
   "skip_h1_title": false,
   "title_cell": "Table of Contents",
   "title_sidebar": "Contents",
   "toc_cell": false,
   "toc_position": {},
   "toc_section_display": true,
   "toc_window_display": true
  }
 },
 "nbformat": 4,
 "nbformat_minor": 2
}
